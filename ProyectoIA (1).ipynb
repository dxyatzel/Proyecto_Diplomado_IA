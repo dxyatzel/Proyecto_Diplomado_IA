{
  "nbformat": 4,
  "nbformat_minor": 0,
  "metadata": {
    "colab": {
      "provenance": []
    },
    "kernelspec": {
      "name": "python3",
      "display_name": "Python 3"
    },
    "language_info": {
      "name": "python"
    }
  },
  "cells": [
    {
      "cell_type": "code",
      "execution_count": 1,
      "metadata": {
        "colab": {
          "base_uri": "https://localhost:8080/"
        },
        "id": "nl150qkmesNW",
        "outputId": "4356e6a9-9e01-4967-f267-2bb465b83fd2"
      },
      "outputs": [
        {
          "output_type": "stream",
          "name": "stdout",
          "text": [
            "Requirement already satisfied: pandas in /usr/local/lib/python3.10/dist-packages (2.0.3)\n",
            "Collecting surprise\n",
            "  Downloading surprise-0.1-py2.py3-none-any.whl (1.8 kB)\n",
            "Requirement already satisfied: python-dateutil>=2.8.2 in /usr/local/lib/python3.10/dist-packages (from pandas) (2.8.2)\n",
            "Requirement already satisfied: pytz>=2020.1 in /usr/local/lib/python3.10/dist-packages (from pandas) (2023.4)\n",
            "Requirement already satisfied: tzdata>=2022.1 in /usr/local/lib/python3.10/dist-packages (from pandas) (2024.1)\n",
            "Requirement already satisfied: numpy>=1.21.0 in /usr/local/lib/python3.10/dist-packages (from pandas) (1.25.2)\n",
            "Collecting scikit-surprise (from surprise)\n",
            "  Downloading scikit-surprise-1.1.3.tar.gz (771 kB)\n",
            "\u001b[2K     \u001b[90m━━━━━━━━━━━━━━━━━━━━━━━━━━━━━━━━━━━━━━━━\u001b[0m \u001b[32m772.0/772.0 kB\u001b[0m \u001b[31m6.7 MB/s\u001b[0m eta \u001b[36m0:00:00\u001b[0m\n",
            "\u001b[?25h  Preparing metadata (setup.py) ... \u001b[?25l\u001b[?25hdone\n",
            "Requirement already satisfied: six>=1.5 in /usr/local/lib/python3.10/dist-packages (from python-dateutil>=2.8.2->pandas) (1.16.0)\n",
            "Requirement already satisfied: joblib>=1.0.0 in /usr/local/lib/python3.10/dist-packages (from scikit-surprise->surprise) (1.4.2)\n",
            "Requirement already satisfied: scipy>=1.3.2 in /usr/local/lib/python3.10/dist-packages (from scikit-surprise->surprise) (1.11.4)\n",
            "Building wheels for collected packages: scikit-surprise\n",
            "  Building wheel for scikit-surprise (setup.py) ... \u001b[?25l\u001b[?25hdone\n",
            "  Created wheel for scikit-surprise: filename=scikit_surprise-1.1.3-cp310-cp310-linux_x86_64.whl size=3162990 sha256=c6d32228cf9df3dcdeac8c3f832984c94e6e1d24a949fd0d618534c8988c064b\n",
            "  Stored in directory: /root/.cache/pip/wheels/a5/ca/a8/4e28def53797fdc4363ca4af740db15a9c2f1595ebc51fb445\n",
            "Successfully built scikit-surprise\n",
            "Installing collected packages: scikit-surprise, surprise\n",
            "Successfully installed scikit-surprise-1.1.3 surprise-0.1\n"
          ]
        }
      ],
      "source": [
        "!pip install pandas surprise\n"
      ]
    },
    {
      "cell_type": "code",
      "source": [
        "import pandas as pd\n",
        "\n",
        "file_path = \"/content/shopsales23.xlsx\"\n",
        "\n",
        "data = pd.read_excel(file_path)\n",
        "\n",
        "data = data.rename(columns={\n",
        "    'name': 'order_id',\n",
        "    'total': 'price',\n",
        "    'billing_zip': 'zip_code',\n",
        "    'billing_province': 'city',\n",
        "    'lineitem_id': 'product_id'\n",
        "})\n",
        "\n",
        "print(\"Primeras filas del dataframe:\")\n",
        "print(data.head())\n",
        "\n",
        "print(\"\\nInformación del dataframe:\")\n",
        "print(data.info())"
      ],
      "metadata": {
        "colab": {
          "base_uri": "https://localhost:8080/"
        },
        "id": "iqOKktvJtzPa",
        "outputId": "29db846d-b0cf-4fcf-e59b-980d9804c6c2"
      },
      "execution_count": 38,
      "outputs": [
        {
          "output_type": "stream",
          "name": "stdout",
          "text": [
            "Primeras filas del dataframe:\n",
            "  order_id financial_status             paid_at fulfillment_status  \\\n",
            "0  SHP5654             paid 2024-02-29 19:35:58          fulfilled   \n",
            "1  SHP5653             paid 2024-02-29 17:52:03          fulfilled   \n",
            "2  SHP5653              NaN                 NaT                NaN   \n",
            "3  SHP5652             paid 2024-02-29 17:30:30          fulfilled   \n",
            "4  SHP5652              NaN                 NaT                NaN   \n",
            "\n",
            "         fulfilled_at accepts_marketing currency  subtotal  shipping    taxes  \\\n",
            "0 2024-03-04 15:44:28               yes      MXN    7990.0       0.0  1102.07   \n",
            "1 2024-03-07 15:02:47               yes      MXN   12132.0       0.0  1673.38   \n",
            "2                 NaT               NaN      NaN       NaN       NaN      NaN   \n",
            "3 2024-03-04 15:39:38               yes      MXN   13280.0       0.0  1831.72   \n",
            "4                 NaT               NaN      NaN       NaN       NaN      NaN   \n",
            "\n",
            "   ...  phone receipt_number  duties billing_province_name  \\\n",
            "0  ...    NaN            NaN     NaN          Mexico State   \n",
            "1  ...    NaN            NaN     NaN            QuerÃ©taro   \n",
            "2  ...    NaN            NaN     NaN                   NaN   \n",
            "3  ...    NaN            NaN     NaN      Ciudad de Mexico   \n",
            "4  ...    NaN            NaN     NaN                   NaN   \n",
            "\n",
            "  shipping_province_name                 payment_id  payment_terms_name  \\\n",
            "0           Mexico State  rzST3e6VHYMpcIEvKza7Ui1Z2                 NaN   \n",
            "1             QuerÃ©taro  rO98TesC9C7roeHdvhOPXsYby                 NaN   \n",
            "2                    NaN                        NaN                 NaN   \n",
            "3       Ciudad de Mexico  r3JLkqoYuZIAS0NBMlGB73Kjr                 NaN   \n",
            "4                    NaN                        NaN                 NaN   \n",
            "\n",
            "   next_payment_due_at         payment_references  \\\n",
            "0                  NaN  rzST3e6VHYMpcIEvKza7Ui1Z2   \n",
            "1                  NaN  rO98TesC9C7roeHdvhOPXsYby   \n",
            "2                  NaN                        NaN   \n",
            "3                  NaN  r3JLkqoYuZIAS0NBMlGB73Kjr   \n",
            "4                  NaN                        NaN   \n",
            "\n",
            "                         product_id  \n",
            "0  512e31ad0e68b495416eaf45d48b84bc  \n",
            "1  ab3d963dfe272cf3331e6e9ac8071b20  \n",
            "2  cb24ebd6a1870336c909ff90e532801b  \n",
            "3  b6eb33869f379c05dc84e29571d6d94d  \n",
            "4  e31451ca928009571ea0eed75d781d0b  \n",
            "\n",
            "[5 rows x 63 columns]\n",
            "\n",
            "Información del dataframe:\n",
            "<class 'pandas.core.frame.DataFrame'>\n",
            "RangeIndex: 3450 entries, 0 to 3449\n",
            "Data columns (total 63 columns):\n",
            " #   Column                       Non-Null Count  Dtype         \n",
            "---  ------                       --------------  -----         \n",
            " 0   order_id                     3450 non-null   object        \n",
            " 1   financial_status             2471 non-null   object        \n",
            " 2   paid_at                      2433 non-null   datetime64[ns]\n",
            " 3   fulfillment_status           2471 non-null   object        \n",
            " 4   fulfilled_at                 2408 non-null   datetime64[ns]\n",
            " 5   accepts_marketing            2471 non-null   object        \n",
            " 6   currency                     2471 non-null   object        \n",
            " 7   subtotal                     2471 non-null   float64       \n",
            " 8   shipping                     2471 non-null   float64       \n",
            " 9   taxes                        2471 non-null   float64       \n",
            " 10  price                        2471 non-null   float64       \n",
            " 11  discount_code                121 non-null    object        \n",
            " 12  discount_amount              2471 non-null   float64       \n",
            " 13  shipping_method              2119 non-null   object        \n",
            " 14  created_at                   3450 non-null   datetime64[ns]\n",
            " 15  lineitem_quantity            3450 non-null   int64         \n",
            " 16  lineitem_price               3450 non-null   float64       \n",
            " 17  lineitem_compare_at_price    866 non-null    float64       \n",
            " 18  lineitem_sku                 2581 non-null   object        \n",
            " 19  lineitem_requires_shipping   3450 non-null   bool          \n",
            " 20  lineitem_taxable             3450 non-null   bool          \n",
            " 21  lineitem_fulfillment_status  3450 non-null   object        \n",
            " 22  billing_address1             2445 non-null   object        \n",
            " 23  billing_city                 2447 non-null   object        \n",
            " 24  zip_code                     2446 non-null   object        \n",
            " 25  city                         2445 non-null   object        \n",
            " 26  billing_country              2462 non-null   object        \n",
            " 27  shipping_city                2461 non-null   object        \n",
            " 28  shipping_zip                 2460 non-null   object        \n",
            " 29  shipping_province            2458 non-null   object        \n",
            " 30  shipping_country             2468 non-null   object        \n",
            " 31  shipping_phone               2463 non-null   object        \n",
            " 32  cancelled_at                 61 non-null     datetime64[ns]\n",
            " 33  payment_method               2471 non-null   object        \n",
            " 34  payment_reference            2433 non-null   object        \n",
            " 35  refunded_amount              2471 non-null   float64       \n",
            " 36  outstanding_balance          2471 non-null   float64       \n",
            " 37  device_id                    0 non-null      float64       \n",
            " 38  id                           2471 non-null   float64       \n",
            " 39  tags                         1 non-null      object        \n",
            " 40  risk_level                   2471 non-null   object        \n",
            " 41  source                       2471 non-null   object        \n",
            " 42  lineitem_discount            3450 non-null   float64       \n",
            " 43  tax_1_name                   2463 non-null   object        \n",
            " 44  tax_1_value                  2463 non-null   float64       \n",
            " 45  tax_2_name                   0 non-null      float64       \n",
            " 46  tax_2_value                  0 non-null      float64       \n",
            " 47  tax_3_name                   0 non-null      float64       \n",
            " 48  tax_3_value                  0 non-null      float64       \n",
            " 49  tax_4_name                   0 non-null      float64       \n",
            " 50  tax_4_value                  0 non-null      float64       \n",
            " 51  tax_5_name                   0 non-null      float64       \n",
            " 52  tax_5_value                  0 non-null      float64       \n",
            " 53  phone                        210 non-null    float64       \n",
            " 54  receipt_number               0 non-null      float64       \n",
            " 55  duties                       0 non-null      float64       \n",
            " 56  billing_province_name        2445 non-null   object        \n",
            " 57  shipping_province_name       2458 non-null   object        \n",
            " 58  payment_id                   2467 non-null   object        \n",
            " 59  payment_terms_name           1 non-null      object        \n",
            " 60  next_payment_due_at          0 non-null      float64       \n",
            " 61  payment_references           2471 non-null   object        \n",
            " 62  product_id                   3450 non-null   object        \n",
            "dtypes: bool(2), datetime64[ns](4), float64(25), int64(1), object(31)\n",
            "memory usage: 1.6+ MB\n",
            "None\n"
          ]
        }
      ]
    },
    {
      "cell_type": "code",
      "source": [
        "from surprise import Dataset, Reader\n",
        "from surprise import SVD\n",
        "from surprise import accuracy\n",
        "from surprise.model_selection import train_test_split\n",
        "\n",
        "ratings_dict = {\n",
        "    'userID': data['order_id'],\n",
        "    'itemID': data['product_id'],\n",
        "    'rating': data['price']\n",
        "}\n",
        "ratings_df = pd.DataFrame(ratings_dict)\n",
        "\n",
        "reader = Reader(rating_scale=(0, ratings_df['rating'].max()))\n",
        "\n",
        "data_surprise = Dataset.load_from_df(ratings_df[['userID', 'itemID', 'rating']], reader)\n",
        "\n",
        "trainset, testset = train_test_split(data_surprise, test_size=0.25)\n",
        "\n",
        "algo = SVD()\n",
        "\n",
        "algo.fit(trainset)\n",
        "\n",
        "predictions = algo.test(testset)\n",
        "accuracy.rmse(predictions)"
      ],
      "metadata": {
        "colab": {
          "base_uri": "https://localhost:8080/"
        },
        "id": "4exXnR1Dt3Ag",
        "outputId": "a602f14b-df9c-49e3-9c1a-f9e736ac1e80"
      },
      "execution_count": 40,
      "outputs": [
        {
          "output_type": "stream",
          "name": "stdout",
          "text": [
            "RMSE: nan\n"
          ]
        },
        {
          "output_type": "execute_result",
          "data": {
            "text/plain": [
              "nan"
            ]
          },
          "metadata": {},
          "execution_count": 40
        }
      ]
    },
    {
      "cell_type": "code",
      "source": [
        "import pandas as pd\n",
        "\n",
        "file_path = \"/content/shopsales23.xlsx\"\n",
        "data = pd.read_excel(file_path)\n",
        "data = data.rename(columns={\n",
        "    'name': 'order_id',\n",
        "    'total': 'price',\n",
        "    'billing_zip': 'zip_code',\n",
        "    'billing_province': 'city',\n",
        "    'lineitem_id': 'product_id'\n",
        "})\n",
        "\n",
        "print(\"Primeras filas del dataframe:\")\n",
        "print(data.head())\n",
        "print(\"\\nInformación del dataframe:\")\n",
        "print(data.info())\n",
        "\n",
        "def save_top_products_by_city(city, data, n=5, output_file=\"/content/top_products.xlsx\"):\n",
        "    city_data = data[data['city'] == city]\n",
        "    if city_data.empty:\n",
        "        print(f\"No se encontraron datos para la ciudad {city}\")\n",
        "        return\n",
        "\n",
        "    top_products = city_data['product_id'].value_counts().head(n)\n",
        "    top_products_df = pd.DataFrame({\n",
        "        'product_id': top_products.index,\n",
        "        'sales_count': top_products.values\n",
        "    })\n",
        "\n",
        "    top_products_df.to_excel(output_file, index=False)\n",
        "    print(f\"Los {n} productos más vendidos en {city} se han guardado en {output_file}\")\n",
        "\n",
        "city_name = input(\"Ingrese el nombre de la ciudad: \")\n",
        "save_top_products_by_city(city_name, data)"
      ],
      "metadata": {
        "colab": {
          "base_uri": "https://localhost:8080/"
        },
        "id": "HD-Wzy3-xn-P",
        "outputId": "1d3dcf9e-e7a6-4c37-83c8-f9d0dfdad747"
      },
      "execution_count": 39,
      "outputs": [
        {
          "output_type": "stream",
          "name": "stdout",
          "text": [
            "Primeras filas del dataframe:\n",
            "  order_id financial_status             paid_at fulfillment_status  \\\n",
            "0  SHP5654             paid 2024-02-29 19:35:58          fulfilled   \n",
            "1  SHP5653             paid 2024-02-29 17:52:03          fulfilled   \n",
            "2  SHP5653              NaN                 NaT                NaN   \n",
            "3  SHP5652             paid 2024-02-29 17:30:30          fulfilled   \n",
            "4  SHP5652              NaN                 NaT                NaN   \n",
            "\n",
            "         fulfilled_at accepts_marketing currency  subtotal  shipping    taxes  \\\n",
            "0 2024-03-04 15:44:28               yes      MXN    7990.0       0.0  1102.07   \n",
            "1 2024-03-07 15:02:47               yes      MXN   12132.0       0.0  1673.38   \n",
            "2                 NaT               NaN      NaN       NaN       NaN      NaN   \n",
            "3 2024-03-04 15:39:38               yes      MXN   13280.0       0.0  1831.72   \n",
            "4                 NaT               NaN      NaN       NaN       NaN      NaN   \n",
            "\n",
            "   ...  phone receipt_number  duties billing_province_name  \\\n",
            "0  ...    NaN            NaN     NaN          Mexico State   \n",
            "1  ...    NaN            NaN     NaN            QuerÃ©taro   \n",
            "2  ...    NaN            NaN     NaN                   NaN   \n",
            "3  ...    NaN            NaN     NaN      Ciudad de Mexico   \n",
            "4  ...    NaN            NaN     NaN                   NaN   \n",
            "\n",
            "  shipping_province_name                 payment_id  payment_terms_name  \\\n",
            "0           Mexico State  rzST3e6VHYMpcIEvKza7Ui1Z2                 NaN   \n",
            "1             QuerÃ©taro  rO98TesC9C7roeHdvhOPXsYby                 NaN   \n",
            "2                    NaN                        NaN                 NaN   \n",
            "3       Ciudad de Mexico  r3JLkqoYuZIAS0NBMlGB73Kjr                 NaN   \n",
            "4                    NaN                        NaN                 NaN   \n",
            "\n",
            "   next_payment_due_at         payment_references  \\\n",
            "0                  NaN  rzST3e6VHYMpcIEvKza7Ui1Z2   \n",
            "1                  NaN  rO98TesC9C7roeHdvhOPXsYby   \n",
            "2                  NaN                        NaN   \n",
            "3                  NaN  r3JLkqoYuZIAS0NBMlGB73Kjr   \n",
            "4                  NaN                        NaN   \n",
            "\n",
            "                         product_id  \n",
            "0  512e31ad0e68b495416eaf45d48b84bc  \n",
            "1  ab3d963dfe272cf3331e6e9ac8071b20  \n",
            "2  cb24ebd6a1870336c909ff90e532801b  \n",
            "3  b6eb33869f379c05dc84e29571d6d94d  \n",
            "4  e31451ca928009571ea0eed75d781d0b  \n",
            "\n",
            "[5 rows x 63 columns]\n",
            "\n",
            "Información del dataframe:\n",
            "<class 'pandas.core.frame.DataFrame'>\n",
            "RangeIndex: 3450 entries, 0 to 3449\n",
            "Data columns (total 63 columns):\n",
            " #   Column                       Non-Null Count  Dtype         \n",
            "---  ------                       --------------  -----         \n",
            " 0   order_id                     3450 non-null   object        \n",
            " 1   financial_status             2471 non-null   object        \n",
            " 2   paid_at                      2433 non-null   datetime64[ns]\n",
            " 3   fulfillment_status           2471 non-null   object        \n",
            " 4   fulfilled_at                 2408 non-null   datetime64[ns]\n",
            " 5   accepts_marketing            2471 non-null   object        \n",
            " 6   currency                     2471 non-null   object        \n",
            " 7   subtotal                     2471 non-null   float64       \n",
            " 8   shipping                     2471 non-null   float64       \n",
            " 9   taxes                        2471 non-null   float64       \n",
            " 10  price                        2471 non-null   float64       \n",
            " 11  discount_code                121 non-null    object        \n",
            " 12  discount_amount              2471 non-null   float64       \n",
            " 13  shipping_method              2119 non-null   object        \n",
            " 14  created_at                   3450 non-null   datetime64[ns]\n",
            " 15  lineitem_quantity            3450 non-null   int64         \n",
            " 16  lineitem_price               3450 non-null   float64       \n",
            " 17  lineitem_compare_at_price    866 non-null    float64       \n",
            " 18  lineitem_sku                 2581 non-null   object        \n",
            " 19  lineitem_requires_shipping   3450 non-null   bool          \n",
            " 20  lineitem_taxable             3450 non-null   bool          \n",
            " 21  lineitem_fulfillment_status  3450 non-null   object        \n",
            " 22  billing_address1             2445 non-null   object        \n",
            " 23  billing_city                 2447 non-null   object        \n",
            " 24  zip_code                     2446 non-null   object        \n",
            " 25  city                         2445 non-null   object        \n",
            " 26  billing_country              2462 non-null   object        \n",
            " 27  shipping_city                2461 non-null   object        \n",
            " 28  shipping_zip                 2460 non-null   object        \n",
            " 29  shipping_province            2458 non-null   object        \n",
            " 30  shipping_country             2468 non-null   object        \n",
            " 31  shipping_phone               2463 non-null   object        \n",
            " 32  cancelled_at                 61 non-null     datetime64[ns]\n",
            " 33  payment_method               2471 non-null   object        \n",
            " 34  payment_reference            2433 non-null   object        \n",
            " 35  refunded_amount              2471 non-null   float64       \n",
            " 36  outstanding_balance          2471 non-null   float64       \n",
            " 37  device_id                    0 non-null      float64       \n",
            " 38  id                           2471 non-null   float64       \n",
            " 39  tags                         1 non-null      object        \n",
            " 40  risk_level                   2471 non-null   object        \n",
            " 41  source                       2471 non-null   object        \n",
            " 42  lineitem_discount            3450 non-null   float64       \n",
            " 43  tax_1_name                   2463 non-null   object        \n",
            " 44  tax_1_value                  2463 non-null   float64       \n",
            " 45  tax_2_name                   0 non-null      float64       \n",
            " 46  tax_2_value                  0 non-null      float64       \n",
            " 47  tax_3_name                   0 non-null      float64       \n",
            " 48  tax_3_value                  0 non-null      float64       \n",
            " 49  tax_4_name                   0 non-null      float64       \n",
            " 50  tax_4_value                  0 non-null      float64       \n",
            " 51  tax_5_name                   0 non-null      float64       \n",
            " 52  tax_5_value                  0 non-null      float64       \n",
            " 53  phone                        210 non-null    float64       \n",
            " 54  receipt_number               0 non-null      float64       \n",
            " 55  duties                       0 non-null      float64       \n",
            " 56  billing_province_name        2445 non-null   object        \n",
            " 57  shipping_province_name       2458 non-null   object        \n",
            " 58  payment_id                   2467 non-null   object        \n",
            " 59  payment_terms_name           1 non-null      object        \n",
            " 60  next_payment_due_at          0 non-null      float64       \n",
            " 61  payment_references           2471 non-null   object        \n",
            " 62  product_id                   3450 non-null   object        \n",
            "dtypes: bool(2), datetime64[ns](4), float64(25), int64(1), object(31)\n",
            "memory usage: 1.6+ MB\n",
            "None\n",
            "Ingrese el nombre de la ciudad: QRO\n",
            "Los 5 productos más vendidos en QRO se han guardado en /content/top_products.xlsx\n"
          ]
        }
      ]
    },
    {
      "cell_type": "code",
      "source": [
        "def get_city_from_order_id(order_id, data):\n",
        "    city = data[data['order_id'] == order_id]['city'].iloc[0]\n",
        "    return city\n",
        "\n",
        "def save_top_products_by_city(city, data, n=5):\n",
        "    city_data = data[data['city'] == city]\n",
        "\n",
        "    if city_data.empty:\n",
        "        print(f\"No se encontraron datos para la ciudad {city}\")\n",
        "        return None\n",
        "\n",
        "    top_products = city_data['product_id'].value_counts().head(n)\n",
        "    top_product_names = top_products.index.tolist()\n",
        "\n",
        "    return top_product_names\n",
        "\n",
        "order_id = input(\"Ingrese su número de pedido: \")\n",
        "city = get_city_from_order_id(order_id, data)\n",
        "\n",
        "if city:\n",
        "    top_products = save_top_products_by_city(city, data)\n",
        "\n",
        "    if top_products:\n",
        "        print(f\"Los 5 productos más recomendados en {city} son:\")\n",
        "        for i, product in enumerate(top_products, 1):\n",
        "            print(f\"{i}. {product}\")\n",
        "    else:\n",
        "        print(\"No se encontraron productos más vendidos para esta ciudad.\")\n",
        "else:\n",
        "    print(\"Número de pedido no encontrado.\")"
      ],
      "metadata": {
        "colab": {
          "base_uri": "https://localhost:8080/"
        },
        "id": "RUKseJFcxo0c",
        "outputId": "ede61386-060a-4497-d295-46f6f1926cbd"
      },
      "execution_count": 41,
      "outputs": [
        {
          "output_type": "stream",
          "name": "stdout",
          "text": [
            "Ingrese su número de pedido: SHP5641\n",
            "Los 5 productos más recomendados en PUE son:\n",
            "1. 0812028abb831e3fb4f10f4e65a521a5\n",
            "2. d99da990a594b52b308774c56d8bd6f3\n",
            "3. 7514d2ddfb90db25fe2f4a224ef0031d\n",
            "4. 1f1a3c70e4d688dd675fee610e8ef9cc\n",
            "5. e3940f10e0798800d5d69ba106420399\n"
          ]
        }
      ]
    },
    {
      "cell_type": "code",
      "source": [
        "def save_top_products_by_city(data, n=10):\n",
        "    city = input(\"Ingrese el nombre de la ciudad: \")\n",
        "\n",
        "    city_data = data[data['city'] == city]\n",
        "\n",
        "    if city_data.empty:\n",
        "        print(f\"No se encontraron datos para la ciudad {city}\")\n",
        "        return None\n",
        "    top_products = city_data['product_id'].value_counts().head(n)\n",
        "\n",
        "    top_product_names = top_products.index.tolist()\n",
        "\n",
        "    return top_product_names\n",
        "\n",
        "top_products = save_top_products_by_city(data)\n",
        "\n",
        "if top_products:\n",
        "    print(\"Los 10 productos más vendidos en la ciudad son:\")\n",
        "    for i, product in enumerate(top_products, 1):\n",
        "        print(f\"{i}. {product}\")\n",
        "else:\n",
        "    print(\"No se encontraron productos más vendidos para esta ciudad.\")"
      ],
      "metadata": {
        "colab": {
          "base_uri": "https://localhost:8080/"
        },
        "id": "JrZJzn4p26G_",
        "outputId": "c915052b-4404-49b4-c9f6-1f151d8a5f00"
      },
      "execution_count": 51,
      "outputs": [
        {
          "output_type": "stream",
          "name": "stdout",
          "text": [
            "Ingrese el nombre de la ciudad: QRO\n",
            "Los 10 productos más vendidos en la ciudad son:\n",
            "1. e3940f10e0798800d5d69ba106420399\n",
            "2. ad979ec8ced49ae72857226408549d27\n",
            "3. e5e57a40bc13a59511ba0b2f8a185f29\n",
            "4. c2f5bfd56350f528ccded7defc938faf\n",
            "5. 803399174d8d638e584bf89436cc3dae\n",
            "6. 16789c7e79991a9cbfced04ae9e2dd98\n",
            "7. 391b9fbc0b7a3328d7b122c209999bf3\n",
            "8. bb9d28b82d516da5cc948fd3abbe6a18\n",
            "9. 464c48577b619c689ce0f5260887dead\n",
            "10. 7c0b576016fb7639ff138f66afb50510\n"
          ]
        }
      ]
    },
    {
      "cell_type": "code",
      "source": [
        "def top_months_by_sales(data, n=5):\n",
        "    data['purchase_date'] = pd.to_datetime(data['purchase_date'], format='%d/%m/%Y %H:%M')\n",
        "\n",
        "    data['month'] = data['purchase_date'].dt.month\n",
        "\n",
        "    monthly_sales = data.groupby('month').size()\n",
        "\n",
        "    top_months = monthly_sales.sort_values(ascending=False).head(n)\n",
        "\n",
        "    return top_months\n",
        "top_months = top_months_by_sales(data)\n",
        "\n",
        "if not top_months.empty:\n",
        "    print(\"Los 5 meses con más ventas son:\")\n",
        "    print(top_months)\n",
        "else:\n",
        "    print(\"No se encontraron datos de ventas.\")"
      ],
      "metadata": {
        "colab": {
          "base_uri": "https://localhost:8080/"
        },
        "id": "Id7VtCDJ9c5r",
        "outputId": "0fcf9864-b643-465c-f9ae-e84898dcc561"
      },
      "execution_count": 53,
      "outputs": [
        {
          "output_type": "stream",
          "name": "stdout",
          "text": [
            "Los 5 meses con más ventas son:\n",
            "month\n",
            "11.0    365\n",
            "6.0     291\n",
            "5.0     228\n",
            "2.0     208\n",
            "3.0     199\n",
            "dtype: int64\n"
          ]
        }
      ]
    },
    {
      "cell_type": "code",
      "source": [
        "def top_months_by_sales(data, n=5):\n",
        "    data['purchase_date'] = pd.to_datetime(data['purchase_date'], format='%d/%m/%Y %H:%M')\n",
        "\n",
        "    data['month'] = data['purchase_date'].dt.month\n",
        "\n",
        "    monthly_sales = data.groupby('month').size()\n",
        "\n",
        "    top_months = monthly_sales.sort_values(ascending=False).head(n)\n",
        "\n",
        "    return top_months.index\n",
        "\n",
        "def recommend_next_purchase(order_id, data):\n",
        "    order_data = data[data['order_id'] == order_id]\n",
        "\n",
        "    if order_data.empty:\n",
        "        print(\"No se encontraron datos para el número de pedido especificado.\")\n",
        "        return\n",
        "    purchase_date = order_data['purchase_date'].iloc[0]\n",
        "\n",
        "    top_months = top_months_by_sales(data)\n",
        "\n",
        "    nearest_month = min(top_months, key=lambda x: abs(x - purchase_date.month))\n",
        "\n",
        "    print(f\"El mes más cercano RECOMENDADO para hacer la siguiente compra es: {nearest_month}\")\n",
        "\n",
        "order_id = input(\"Ingrese su número de pedido: \")\n",
        "\n",
        "recommend_next_purchase(order_id, data)"
      ],
      "metadata": {
        "colab": {
          "base_uri": "https://localhost:8080/"
        },
        "id": "zOPIdalf-Nll",
        "outputId": "949fe1e9-3b19-4e16-cc55-189d61109c54"
      },
      "execution_count": 55,
      "outputs": [
        {
          "output_type": "stream",
          "name": "stdout",
          "text": [
            "Ingrese su número de pedido: SHP4875\n",
            "El mes más cercano RECOMENDADO para hacer la siguiente compra es: 11.0\n"
          ]
        }
      ]
    },
    {
      "cell_type": "code",
      "source": [
        "import pandas as pd\n",
        "file_path = \"/content/shopsales23.xlsx\"\n",
        "data = pd.read_excel(file_path)\n",
        "data = data.rename(columns={\n",
        "    'name': 'order_id',\n",
        "    'total': 'price',\n",
        "    'billing_zip': 'zip_code',\n",
        "    'billing_province': 'city',\n",
        "    'lineitem_id': 'product_id',\n",
        "    'created_at': 'created_date',\n",
        "    'fulfilled_at': 'fulfilled_date'\n",
        "})\n",
        "\n",
        "def top_fastest_shipping_months(data, n=5):\n",
        "    data['created_date'] = pd.to_datetime(data['created_date'], format='%d/%m/%Y %H:%M')\n",
        "    data['fulfilled_date'] = pd.to_datetime(data['fulfilled_date'], format='%d/%m/%Y %H:%M')\n",
        "\n",
        "    data['shipping_duration'] = (data['fulfilled_date'] - data['created_date']).dt.days\n",
        "\n",
        "    data['month'] = data['created_date'].dt.month\n",
        "    avg_shipping_duration = data.groupby('month')['shipping_duration'].mean()\n",
        "\n",
        "    top_fastest_shipping_months = avg_shipping_duration.sort_values().head(n)\n",
        "\n",
        "    return top_fastest_shipping_months.index\n",
        "\n",
        "fastest_shipping_months = top_fastest_shipping_months(data)\n",
        "\n",
        "if not fastest_shipping_months.empty:\n",
        "    print(\"Los 5 meses con envío más rápido son:\")\n",
        "    print(fastest_shipping_months)\n",
        "else:\n",
        "    print(\"No se encontraron datos de envío.\")"
      ],
      "metadata": {
        "colab": {
          "base_uri": "https://localhost:8080/"
        },
        "id": "zRctq0YlBBjz",
        "outputId": "8a86d0f8-3c4a-45f6-c5a4-2d4315fbe5b2"
      },
      "execution_count": 57,
      "outputs": [
        {
          "output_type": "stream",
          "name": "stdout",
          "text": [
            "Los 5 meses con envío más rápido son:\n",
            "Index([7, 9, 5, 6, 4], dtype='int32', name='month')\n"
          ]
        }
      ]
    },
    {
      "cell_type": "code",
      "source": [
        "def top_fastest_shipping_months(data, n=5):\n",
        "    data['created_date'] = pd.to_datetime(data['created_date'], format='%d/%m/%Y %H:%M')\n",
        "    data['fulfilled_date'] = pd.to_datetime(data['fulfilled_date'], format='%d/%m/%Y %H:%M')\n",
        "\n",
        "    data['shipping_duration'] = (data['fulfilled_date'] - data['created_date']).dt.days\n",
        "\n",
        "    data['month'] = data['created_date'].dt.month\n",
        "\n",
        "    avg_shipping_duration = data.groupby('month')['shipping_duration'].mean()\n",
        "\n",
        "    top_fastest_shipping_months = avg_shipping_duration.sort_values().head(n)\n",
        "\n",
        "    return top_fastest_shipping_months.index\n",
        "\n",
        "def recommend_next_purchase(order_id, data):\n",
        "    order_data = data[data['order_id'] == order_id]\n",
        "\n",
        "    if order_data.empty:\n",
        "        print(\"No se encontraron datos para el número de pedido especificado.\")\n",
        "        return\n",
        "\n",
        "    purchase_date = order_data['created_date'].iloc[0]\n",
        "\n",
        "    fastest_shipping_months = top_fastest_shipping_months(data)\n",
        "\n",
        "    nearest_month = min(fastest_shipping_months, key=lambda x: abs(x - purchase_date.month))\n",
        "\n",
        "    print(f\"El mes más cercano para hacer la siguiente compra para un envío más rápido es: {nearest_month}\")\n",
        "\n",
        "order_id = input(\"Ingrese su número de pedido: \")\n",
        "\n",
        "recommend_next_purchase(order_id, data)"
      ],
      "metadata": {
        "colab": {
          "base_uri": "https://localhost:8080/"
        },
        "id": "xn_4gwojCrUw",
        "outputId": "844b1b5a-a04a-4eaf-a7ff-f00dda7e3bab"
      },
      "execution_count": 58,
      "outputs": [
        {
          "output_type": "stream",
          "name": "stdout",
          "text": [
            "Ingrese su número de pedido: SHP4562\n",
            "El mes más cercano para hacer la siguiente compra para un envío más rápido es: 9\n"
          ]
        }
      ]
    },
    {
      "cell_type": "code",
      "source": [
        "def fraud_detection(order_id, data):\n",
        "    order_data = data[data['order_id'] == order_id]\n",
        "\n",
        "    if order_data.empty:\n",
        "        print(\"No se encontraron datos para el número de pedido especificado.\")\n",
        "        return\n",
        "\n",
        "    order_count = len(order_data)\n",
        "\n",
        "    na_count = len(order_data[order_data['financial_status'] == 'NA'])\n",
        "\n",
        "    fraud_ratio = na_count / order_count\n",
        "\n",
        "    if fraud_ratio < 0.5:\n",
        "        print(\"Este pedido tiene un alto riesgo de fraude.\")\n",
        "    else:\n",
        "        print(\"Este pedido tiene un riesgo de fraude bajo.\")\n",
        "\n",
        "order_id = input(\"Ingrese su número de pedido: \")\n",
        "\n",
        "fraud_detection(order_id, data)"
      ],
      "metadata": {
        "colab": {
          "base_uri": "https://localhost:8080/"
        },
        "id": "tDFdE9qKEnZS",
        "outputId": "639af1ba-fef7-43dc-f9e1-7cc24ead1beb"
      },
      "execution_count": 66,
      "outputs": [
        {
          "output_type": "stream",
          "name": "stdout",
          "text": [
            "Ingrese su número de pedido: SHP5653\n",
            "Este pedido tiene un riesgo de fraude bajo.\n"
          ]
        }
      ]
    }
  ]
}